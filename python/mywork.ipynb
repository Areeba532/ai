{
 "cells": [
  {
   "cell_type": "code",
   "execution_count": 2,
   "id": "a2223e0b",
   "metadata": {},
   "outputs": [
    {
     "name": "stdout",
     "output_type": "stream",
     "text": [
      "25\n"
     ]
    }
   ],
   "source": [
    "a=10\n",
    "b=15\n",
    "c=a+b\n",
    "print(c)"
   ]
  },
  {
   "cell_type": "code",
   "execution_count": 3,
   "id": "ca7fd9f6",
   "metadata": {},
   "outputs": [
    {
     "data": {
      "text/plain": [
       "5.0"
      ]
     },
     "execution_count": 3,
     "metadata": {},
     "output_type": "execute_result"
    }
   ],
   "source": [
    "import math\n",
    "math.sqrt(c)"
   ]
  },
  {
   "cell_type": "code",
   "execution_count": 8,
   "id": "805dc970",
   "metadata": {},
   "outputs": [
    {
     "name": "stdout",
     "output_type": "stream",
     "text": [
      "area of circle:  78.5\n"
     ]
    }
   ],
   "source": [
    "radius=5\n",
    "pi=3.14\n",
    "area=pi*(radius**2)\n",
    "print(\"area of circle: \",area)"
   ]
  },
  {
   "cell_type": "code",
   "execution_count": 17,
   "id": "e05b68e2",
   "metadata": {},
   "outputs": [
    {
     "name": "stdout",
     "output_type": "stream",
     "text": [
      "20km = 12miles\n"
     ]
    }
   ],
   "source": [
    "# 1 kil8ometer equals 0.62137 miles\n",
    "km=20\n",
    "mile=km*0.62137\n",
    "print(f\"{km}km = {round(mile)}miles\")"
   ]
  },
  {
   "cell_type": "code",
   "execution_count": 23,
   "id": "863a4d34",
   "metadata": {},
   "outputs": [
    {
     "name": "stdout",
     "output_type": "stream",
     "text": [
      "3\n"
     ]
    }
   ],
   "source": [
    "import random\n",
    "randomnumber = random.randint(1, 10)\n",
    "print(randomnumber)"
   ]
  },
  {
   "cell_type": "code",
   "execution_count": 24,
   "id": "0d26f59c",
   "metadata": {},
   "outputs": [
    {
     "name": "stdout",
     "output_type": "stream",
     "text": [
      "AREEBA\n"
     ]
    }
   ],
   "source": [
    "name=\"AREEBA\"\n",
    "print(name)"
   ]
  },
  {
   "cell_type": "code",
   "execution_count": 25,
   "id": "1a1cbf23",
   "metadata": {},
   "outputs": [
    {
     "name": "stdout",
     "output_type": "stream",
     "text": [
      "21\n"
     ]
    }
   ],
   "source": [
    "age=21\n",
    "print(age)"
   ]
  },
  {
   "cell_type": "code",
   "execution_count": 54,
   "id": "01c6cf2e",
   "metadata": {},
   "outputs": [
    {
     "name": "stdout",
     "output_type": "stream",
     "text": [
      "3.14159\n",
      "3.14\n"
     ]
    }
   ],
   "source": [
    "pi=3.14159\n",
    "print(pi)\n",
    "print(f\"{pi:.2f}\")"
   ]
  },
  {
   "cell_type": "code",
   "execution_count": 71,
   "id": "03bece8e",
   "metadata": {},
   "outputs": [
    {
     "name": "stdout",
     "output_type": "stream",
     "text": [
      "30\n",
      "20\n",
      "sum =  50\n"
     ]
    }
   ],
   "source": [
    "num1=int(input())\n",
    "num2=int(input())\n",
    "sum=num1+num2\n",
    "print(\"sum = \", sum)"
   ]
  },
  {
   "cell_type": "code",
   "execution_count": 1,
   "id": "778e08ca",
   "metadata": {},
   "outputs": [
    {
     "data": {
      "text/plain": [
       "True"
      ]
     },
     "execution_count": 1,
     "metadata": {},
     "output_type": "execute_result"
    }
   ],
   "source": [
    "var=\"is_true\"\n",
    "bool(var)"
   ]
  },
  {
   "cell_type": "code",
   "execution_count": 2,
   "id": "89702170",
   "metadata": {},
   "outputs": [
    {
     "name": "stdout",
     "output_type": "stream",
     "text": [
      "I m here\n"
     ]
    }
   ],
   "source": [
    "message=\"I m here\"\n",
    "print(message)"
   ]
  },
  {
   "cell_type": "code",
   "execution_count": 3,
   "id": "0863b2d8",
   "metadata": {},
   "outputs": [
    {
     "name": "stdout",
     "output_type": "stream",
     "text": [
      "I\n",
      "e\n"
     ]
    }
   ],
   "source": [
    "print(message[0])\n",
    "print(message[-1])"
   ]
  },
  {
   "cell_type": "code",
   "execution_count": 34,
   "id": "24225e13",
   "metadata": {},
   "outputs": [
    {
     "data": {
      "text/plain": [
       "8"
      ]
     },
     "execution_count": 34,
     "metadata": {},
     "output_type": "execute_result"
    }
   ],
   "source": [
    "len(message)"
   ]
  },
  {
   "cell_type": "code",
   "execution_count": 13,
   "id": "71901bc6",
   "metadata": {},
   "outputs": [
    {
     "data": {
      "text/plain": [
       "'ereh m I'"
      ]
     },
     "execution_count": 13,
     "metadata": {},
     "output_type": "execute_result"
    }
   ],
   "source": [
    "message[::-1]"
   ]
  },
  {
   "cell_type": "code",
   "execution_count": 9,
   "id": "3c59a618",
   "metadata": {},
   "outputs": [
    {
     "name": "stdout",
     "output_type": "stream",
     "text": [
      "A\n"
     ]
    }
   ],
   "source": [
    "word=\"AREEBA HERE\"\n",
    "print(word[0])"
   ]
  },
  {
   "cell_type": "code",
   "execution_count": 10,
   "id": "e1348dbb",
   "metadata": {},
   "outputs": [
    {
     "name": "stdout",
     "output_type": "stream",
     "text": [
      "A\n",
      "R\n",
      "E\n"
     ]
    }
   ],
   "source": [
    "print(word[0])\n",
    "print(word[1])\n",
    "print(word[2])"
   ]
  },
  {
   "cell_type": "code",
   "execution_count": 11,
   "id": "12795369",
   "metadata": {},
   "outputs": [
    {
     "name": "stdout",
     "output_type": "stream",
     "text": [
      "E\n",
      "R\n",
      "E\n"
     ]
    }
   ],
   "source": [
    "print(word[-1])\n",
    "print(word[-2])\n",
    "print(word[-3])"
   ]
  },
  {
   "cell_type": "code",
   "execution_count": 43,
   "id": "19fa76dd",
   "metadata": {},
   "outputs": [
    {
     "name": "stdout",
     "output_type": "stream",
     "text": [
      "AEB EE\n"
     ]
    }
   ],
   "source": [
    "print(word[::2])"
   ]
  },
  {
   "cell_type": "code",
   "execution_count": 16,
   "id": "9770bdbd",
   "metadata": {},
   "outputs": [
    {
     "data": {
      "text/plain": [
       "'EREH ABEERA'"
      ]
     },
     "execution_count": 16,
     "metadata": {},
     "output_type": "execute_result"
    }
   ],
   "source": [
    "word[::-1]"
   ]
  },
  {
   "cell_type": "code",
   "execution_count": 25,
   "id": "b004ac75",
   "metadata": {},
   "outputs": [
    {
     "name": "stdout",
     "output_type": "stream",
     "text": [
      "AREEBA FATIMA, STUDENT OF AI\n",
      "areeba fatima, student of ai\n"
     ]
    }
   ],
   "source": [
    "sentence=\"AREEBA FATIMA, Student of Ai\"\n",
    "print(sentence.upper())\n",
    "print(sentence.lower())"
   ]
  },
  {
   "cell_type": "code",
   "execution_count": 33,
   "id": "c449ea4f",
   "metadata": {},
   "outputs": [
    {
     "name": "stdout",
     "output_type": "stream",
     "text": [
      "Number of occurrence of A: 5\n"
     ]
    }
   ],
   "source": [
    "print('Number of occurrence of A:', sentence.count('A'))"
   ]
  },
  {
   "cell_type": "code",
   "execution_count": 41,
   "id": "946d7ece",
   "metadata": {},
   "outputs": [
    {
     "data": {
      "text/plain": [
       "'AREEBA FATIMA, Student of BS_MATHEMATICS'"
      ]
     },
     "execution_count": 41,
     "metadata": {},
     "output_type": "execute_result"
    }
   ],
   "source": [
    "sentence.replace(\"Ai\", \"BS_MATHEMATICS\")"
   ]
  },
  {
   "cell_type": "code",
   "execution_count": 43,
   "id": "56a1df92",
   "metadata": {},
   "outputs": [
    {
     "name": "stdout",
     "output_type": "stream",
     "text": [
      "MY NAME IS AREEBA FATIMA. I'M 21 YEARS OLD. I LIVE IN HYDERABAD\n"
     ]
    }
   ],
   "source": [
    "NAME='AREEBA FATIMA'\n",
    "AGE=21\n",
    "CITY='HYDERABAD'\n",
    "print(f\"MY NAME IS {NAME}. I'M {AGE} YEARS OLD. I LIVE IN {CITY}\")"
   ]
  },
  {
   "cell_type": "code",
   "execution_count": 62,
   "id": "d3bfb05b",
   "metadata": {},
   "outputs": [
    {
     "name": "stdout",
     "output_type": "stream",
     "text": [
      "01\n",
      "02\n"
     ]
    }
   ],
   "source": [
    "number = 1\n",
    "number2 = 2\n",
    "print(f\"{number:02d}\")\n",
    "print(f\"{number2:02d}\")"
   ]
  },
  {
   "cell_type": "code",
   "execution_count": 63,
   "id": "146ee44e",
   "metadata": {},
   "outputs": [
    {
     "name": "stdout",
     "output_type": "stream",
     "text": [
      "English_United States.1252\n",
      "en_GB\n"
     ]
    }
   ],
   "source": [
    "import locale \n",
    "print(locale.setlocale(locale.LC_ALL, ''))\n",
    "print(locale.setlocale(locale.LC_ALL, 'en_GB'))\n"
   ]
  },
  {
   "cell_type": "code",
   "execution_count": 65,
   "id": "19b016c3",
   "metadata": {},
   "outputs": [
    {
     "name": "stdout",
     "output_type": "stream",
     "text": [
      "$4.67\n"
     ]
    }
   ],
   "source": [
    "price=4.67\n",
    "currency=\"${:,.2f}\".format(price)\n",
    "print(currency)"
   ]
  },
  {
   "cell_type": "code",
   "execution_count": 67,
   "id": "c9b1306c",
   "metadata": {},
   "outputs": [
    {
     "name": "stdout",
     "output_type": "stream",
     "text": [
      "Percentage: 12.56%\n"
     ]
    }
   ],
   "source": [
    "percent = 12.56\n",
    "print(f'Percentage: {percent}%') "
   ]
  },
  {
   "cell_type": "code",
   "execution_count": 75,
   "id": "a1ed69c6",
   "metadata": {},
   "outputs": [
    {
     "name": "stdout",
     "output_type": "stream",
     "text": [
      "7\n",
      "7 is a prime number\n"
     ]
    }
   ],
   "source": [
    "prime=int(input())\n",
    "if prime > 1:\n",
    "    for i in range(2, int(prime/2)+1):\n",
    "        if (prime % i) == 0:\n",
    "            print(prime, \"is not a prime number\")\n",
    "            break\n",
    "    else:\n",
    "        print(prime, \"is a prime number\")\n",
    "else:\n",
    "    print(prime, \"is not a prime number\")"
   ]
  },
  {
   "cell_type": "code",
   "execution_count": 79,
   "id": "0f6ed37b",
   "metadata": {},
   "outputs": [
    {
     "ename": "IndentationError",
     "evalue": "expected an indented block after 'if' statement on line 2 (3098544494.py, line 3)",
     "output_type": "error",
     "traceback": [
      "\u001b[1;36m  Cell \u001b[1;32mIn[79], line 3\u001b[1;36m\u001b[0m\n\u001b[1;33m    return n\u001b[0m\n\u001b[1;37m            ^\u001b[0m\n\u001b[1;31mIndentationError\u001b[0m\u001b[1;31m:\u001b[0m expected an indented block after 'if' statement on line 2\n"
     ]
    }
   ],
   "source": [
    "def fibonacci_of(n):\n",
    "     if n in {0, 1}:  # Base case\n",
    "return n\n",
    "return fibonacci_of(n - 1) + fibonacci_of(n - 2)\n",
    "\n",
    "[fibonacci_of(n) for n in range(15)]\n",
    "[0, 1, 1, 2, 3, 5, 8, 13, 21, 34, 55, 89, 144, 233, 377]"
   ]
  },
  {
   "cell_type": "code",
   "execution_count": 83,
   "id": "f8fc399c",
   "metadata": {},
   "outputs": [
    {
     "name": "stdout",
     "output_type": "stream",
     "text": [
      "120\n"
     ]
    }
   ],
   "source": [
    "import math\n",
    "print(math.factorial(5))"
   ]
  },
  {
   "cell_type": "code",
   "execution_count": 84,
   "id": "5c075ed6",
   "metadata": {},
   "outputs": [
    {
     "name": "stdout",
     "output_type": "stream",
     "text": [
      "8\n",
      "4\n",
      "area of triangle =  32\n"
     ]
    }
   ],
   "source": [
    "width=int(input())\n",
    "height=int(input())\n",
    "area=width*height\n",
    "print(\"area of triangle = \",area)"
   ]
  },
  {
   "cell_type": "code",
   "execution_count": 93,
   "id": "51d0c5cc",
   "metadata": {},
   "outputs": [],
   "source": [
    "mylist=[1,2,3,4,5,6,7,8,9]\n",
    "mytuple=('areeba','fatima','fariha','faiza')\n",
    "myset = {1.2,2.3,3.4,5.6}\n",
    "my_dict={'areeba':'A','fatima':'B','fariha':'C','faiza':'D'}"
   ]
  },
  {
   "cell_type": "code",
   "execution_count": 96,
   "id": "94eb4107",
   "metadata": {},
   "outputs": [
    {
     "name": "stdout",
     "output_type": "stream",
     "text": [
      "True\n"
     ]
    }
   ],
   "source": [
    "mybool=4>2\n",
    "print(mybool)"
   ]
  },
  {
   "cell_type": "code",
   "execution_count": 109,
   "id": "3c67623b",
   "metadata": {},
   "outputs": [
    {
     "name": "stdout",
     "output_type": "stream",
     "text": [
      "I'M HERE \n",
      "I'm 21\n",
      "I'm student of Ai\n",
      "Number of occurrence of E: 2\n"
     ]
    }
   ],
   "source": [
    "text=\"I'M HERE \\nI'm 21\\nI'm student of Ai\"\n",
    "print(text)\n",
    "print('Number of occurrence of E:', text.count('E'))"
   ]
  },
  {
   "cell_type": "code",
   "execution_count": 112,
   "id": "105541cb",
   "metadata": {},
   "outputs": [
    {
     "name": "stdout",
     "output_type": "stream",
     "text": [
      "the word student ..found!\n"
     ]
    }
   ],
   "source": [
    "worde = \"student\"\n",
    "if worde in text:\n",
    "    print(f\"the word {worde}\", \"..found!\")\n",
    "else:\n",
    "    print(text, \"..not found!\")"
   ]
  },
  {
   "cell_type": "code",
   "execution_count": null,
   "id": "0b259bac",
   "metadata": {},
   "outputs": [],
   "source": []
  },
  {
   "cell_type": "code",
   "execution_count": null,
   "id": "12df207f",
   "metadata": {},
   "outputs": [],
   "source": []
  }
 ],
 "metadata": {
  "kernelspec": {
   "display_name": "Python 3 (ipykernel)",
   "language": "python",
   "name": "python3"
  },
  "language_info": {
   "codemirror_mode": {
    "name": "ipython",
    "version": 3
   },
   "file_extension": ".py",
   "mimetype": "text/x-python",
   "name": "python",
   "nbconvert_exporter": "python",
   "pygments_lexer": "ipython3",
   "version": "3.11.4"
  }
 },
 "nbformat": 4,
 "nbformat_minor": 5
}
