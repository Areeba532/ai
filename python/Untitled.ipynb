{
 "cells": [
  {
   "cell_type": "code",
   "execution_count": 5,
   "id": "7bf733e5",
   "metadata": {},
   "outputs": [
    {
     "name": "stdout",
     "output_type": "stream",
     "text": [
      "2\n",
      "4\n",
      "6\n",
      "8\n",
      "10\n"
     ]
    }
   ],
   "source": [
    "ab=range(1,11)\n",
    "for n in ab:\n",
    "    if n%2==0:\n",
    "        print(n)"
   ]
  },
  {
   "cell_type": "code",
   "execution_count": 11,
   "id": "609bcc1a",
   "metadata": {},
   "outputs": [
    {
     "name": "stdout",
     "output_type": "stream",
     "text": [
      "ab =  [4, 16, 36, 64, 100]\n"
     ]
    }
   ],
   "source": [
    "var = [num*num for num in range(1,11) if num%2==0]\n",
    "print(\"ab = \",var)"
   ]
  },
  {
   "cell_type": "code",
   "execution_count": 13,
   "id": "d5a58024",
   "metadata": {},
   "outputs": [
    {
     "name": "stdout",
     "output_type": "stream",
     "text": [
      "2\n",
      "bull\n"
     ]
    }
   ],
   "source": [
    "class name():\n",
    "    def __init__(self,ai):\n",
    "        print(ai)\n",
    "        self.az=ai**2\n",
    "    def dog(self,breed):\n",
    "        print(breed)\n",
    "ab = name(ai=2)\n",
    "ab.dog(breed='bull')"
   ]
  },
  {
   "cell_type": "code",
   "execution_count": null,
   "id": "9ee10740",
   "metadata": {},
   "outputs": [],
   "source": [
    "class cal():\n",
    "    def __init__(self,no):\n",
    "        self.number=no\n",
    "    def table(self,no):\n",
    "        for n "
   ]
  },
  {
   "cell_type": "code",
   "execution_count": null,
   "id": "91c098b6",
   "metadata": {},
   "outputs": [],
   "source": []
  }
 ],
 "metadata": {
  "kernelspec": {
   "display_name": "Python 3 (ipykernel)",
   "language": "python",
   "name": "python3"
  },
  "language_info": {
   "codemirror_mode": {
    "name": "ipython",
    "version": 3
   },
   "file_extension": ".py",
   "mimetype": "text/x-python",
   "name": "python",
   "nbconvert_exporter": "python",
   "pygments_lexer": "ipython3",
   "version": "3.11.4"
  }
 },
 "nbformat": 4,
 "nbformat_minor": 5
}
